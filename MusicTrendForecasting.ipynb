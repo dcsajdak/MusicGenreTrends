{
 "cells": [
  {
   "cell_type": "markdown",
   "metadata": {},
   "source": [
    "# Data Transformation and Preparation"
   ]
  },
  {
   "cell_type": "code",
   "execution_count": 67,
   "metadata": {},
   "outputs": [
    {
     "name": "stdout",
     "output_type": "stream",
     "text": [
      "<class 'pandas.core.frame.DataFrame'>\n",
      "RangeIndex: 327895 entries, 0 to 327894\n",
      "Data columns (total 29 columns):\n",
      " #   Column                     Non-Null Count   Dtype  \n",
      "---  ------                     --------------   -----  \n",
      " 0   SongID                     327895 non-null  object \n",
      " 1   Performer_x                327817 non-null  object \n",
      " 2   Song_x                     327817 non-null  object \n",
      " 3   spotify_genre              313371 non-null  object \n",
      " 4   spotify_track_id           284728 non-null  object \n",
      " 5   spotify_track_preview_url  168700 non-null  object \n",
      " 6   spotify_track_duration_ms  284728 non-null  float64\n",
      " 7   spotify_track_explicit     284728 non-null  object \n",
      " 8   spotify_track_album        284666 non-null  object \n",
      " 9   danceability               284170 non-null  float64\n",
      " 10  energy                     284170 non-null  float64\n",
      " 11  key                        284170 non-null  float64\n",
      " 12  loudness                   284170 non-null  float64\n",
      " 13  mode                       284170 non-null  float64\n",
      " 14  speechiness                284170 non-null  float64\n",
      " 15  acousticness               284170 non-null  float64\n",
      " 16  instrumentalness           284170 non-null  float64\n",
      " 17  liveness                   284170 non-null  float64\n",
      " 18  valence                    284170 non-null  float64\n",
      " 19  tempo                      284170 non-null  float64\n",
      " 20  time_signature             284170 non-null  float64\n",
      " 21  spotify_track_popularity   284728 non-null  float64\n",
      " 22  url                        327895 non-null  object \n",
      " 23  WeekID                     327895 non-null  object \n",
      " 24  Week Position              327895 non-null  int64  \n",
      " 25  Instance                   327895 non-null  int64  \n",
      " 26  Previous Week Position     295941 non-null  float64\n",
      " 27  Peak Position              327895 non-null  int64  \n",
      " 28  Weeks on Chart             327895 non-null  int64  \n",
      "dtypes: float64(15), int64(4), object(10)\n",
      "memory usage: 72.5+ MB\n",
      "None\n"
     ]
    }
   ],
   "source": [
    "import pandas as pd\n",
    "import ast\n",
    "\n",
    "# read the data\n",
    "spotify = pd.read_csv('data/Hot 100 Audio Features.csv')\n",
    "billboard = pd.read_csv('data/Hot Stuff.csv')\n",
    "\n",
    "# join on song id\n",
    "spotify = spotify.drop_duplicates(subset=['SongID']) # drop duplicates in spotify\n",
    "df = pd.merge(spotify, billboard, on=['SongID'], how='right', validate='one_to_many')\n",
    "df.drop(columns=['index_y', 'index_x', 'Performer_y', 'Song_y'], inplace = True) # get rid of index and duplicate columns\n",
    "\n",
    "print(df.info())"
   ]
  },
  {
   "cell_type": "code",
   "execution_count": 68,
   "metadata": {},
   "outputs": [
    {
     "name": "stdout",
     "output_type": "stream",
     "text": [
      "            spotify_genre  Year  spotify_track_duration_ms  danceability  \\\n",
      "0  21st century classical  1969                        NaN           NaN   \n",
      "1              a cappella  1960                        NaN           NaN   \n",
      "2              a cappella  1962              176153.777778      0.447222   \n",
      "3              a cappella  1963              174740.423729      0.516186   \n",
      "4              a cappella  1964              181078.444444      0.607444   \n",
      "\n",
      "     energy       key   loudness      mode  speechiness  acousticness  ...  \\\n",
      "0       NaN       NaN        NaN       NaN          NaN           NaN  ...   \n",
      "1       NaN       NaN        NaN       NaN          NaN           NaN  ...   \n",
      "2  0.175333  4.333333 -18.251556  0.111111     0.049922      0.848778  ...   \n",
      "3  0.218542  6.067797 -18.188373  1.000000     0.038598      0.717441  ...   \n",
      "4  0.252333  3.333333 -11.744889  1.000000     0.034522      0.776333  ...   \n",
      "\n",
      "    valence       tempo  time_signature  spotify_track_popularity  \\\n",
      "0       NaN         NaN             NaN                       NaN   \n",
      "1       NaN         NaN             NaN                       NaN   \n",
      "2  0.258778  159.067000        4.000000                 38.000000   \n",
      "3  0.573864  131.577610        3.915254                 41.762712   \n",
      "4  0.633111  118.917889        3.777778                 43.222222   \n",
      "\n",
      "   Week Position  Instance  Previous Week Position  Peak Position  \\\n",
      "0      92.666667  1.000000               93.000000      92.666667   \n",
      "1      92.333333  1.000000               90.000000      88.000000   \n",
      "2      45.857143  1.000000               42.222222      41.619048   \n",
      "3      38.389831  1.118644               35.313725      33.101695   \n",
      "4      59.250000  1.000000               56.900000      57.666667   \n",
      "\n",
      "   Weeks on Chart  song_count  \n",
      "0        2.000000           3  \n",
      "1        2.000000           3  \n",
      "2        5.476190          21  \n",
      "3        6.000000          59  \n",
      "4        3.916667          12  \n",
      "\n",
      "[5 rows x 22 columns]\n",
      "<class 'pandas.core.frame.DataFrame'>\n",
      "RangeIndex: 12383 entries, 0 to 12382\n",
      "Data columns (total 22 columns):\n",
      " #   Column                     Non-Null Count  Dtype  \n",
      "---  ------                     --------------  -----  \n",
      " 0   spotify_genre              12383 non-null  object \n",
      " 1   Year                       12383 non-null  object \n",
      " 2   spotify_track_duration_ms  11507 non-null  float64\n",
      " 3   danceability               11503 non-null  float64\n",
      " 4   energy                     11503 non-null  float64\n",
      " 5   key                        11503 non-null  float64\n",
      " 6   loudness                   11503 non-null  float64\n",
      " 7   mode                       11503 non-null  float64\n",
      " 8   speechiness                11503 non-null  float64\n",
      " 9   acousticness               11503 non-null  float64\n",
      " 10  instrumentalness           11503 non-null  float64\n",
      " 11  liveness                   11503 non-null  float64\n",
      " 12  valence                    11503 non-null  float64\n",
      " 13  tempo                      11503 non-null  float64\n",
      " 14  time_signature             11503 non-null  float64\n",
      " 15  spotify_track_popularity   11507 non-null  float64\n",
      " 16  Week Position              12383 non-null  float64\n",
      " 17  Instance                   12383 non-null  float64\n",
      " 18  Previous Week Position     11878 non-null  float64\n",
      " 19  Peak Position              12383 non-null  float64\n",
      " 20  Weeks on Chart             12383 non-null  float64\n",
      " 21  song_count                 12383 non-null  int64  \n",
      "dtypes: float64(19), int64(1), object(2)\n",
      "memory usage: 2.1+ MB\n",
      "None\n"
     ]
    }
   ],
   "source": [
    "# get numeric columns\n",
    "num_cols = df.select_dtypes(include='number').columns.to_list()\n",
    "\n",
    "# transform the data so that each row corresponds to a genre-year combination\n",
    "# aggregate the numeric columns over that combination\n",
    "df['Year'] = df['WeekID'].apply(lambda x: x.split('/')[2]) # create year column from weekid\n",
    "df = df.dropna(subset=['spotify_genre']) # drop rows with no genre\n",
    "df['spotify_genre'] = df['spotify_genre'].apply(ast.literal_eval) # make genre field a list not string\n",
    "df = df.explode('spotify_genre') # genre is a list of genres for each song, want one genre for each song\n",
    "genre_df = df.groupby(['spotify_genre', 'Year']).agg({col: 'mean' for col in num_cols}).reset_index()\n",
    "song_counts = df.groupby(['spotify_genre', 'Year']).size().reset_index(name='song_count') # get song counts\n",
    "genre_df = pd.merge(genre_df, song_counts, on=['spotify_genre', 'Year'], how='left') # merge song counts with genre_df\n",
    "print(genre_df.head())\n",
    "print(genre_df.info())"
   ]
  },
  {
   "cell_type": "markdown",
   "metadata": {},
   "source": [
    "# Exploratory Data Analysis"
   ]
  }
 ],
 "metadata": {
  "kernelspec": {
   "display_name": "Python 3",
   "language": "python",
   "name": "python3"
  },
  "language_info": {
   "codemirror_mode": {
    "name": "ipython",
    "version": 3
   },
   "file_extension": ".py",
   "mimetype": "text/x-python",
   "name": "python",
   "nbconvert_exporter": "python",
   "pygments_lexer": "ipython3",
   "version": "3.11.4"
  }
 },
 "nbformat": 4,
 "nbformat_minor": 0
}
