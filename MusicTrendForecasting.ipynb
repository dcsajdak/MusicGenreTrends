{
 "cells": [
  {
   "cell_type": "markdown",
   "metadata": {},
   "source": [
    "Data Transformation and Preparation"
   ]
  },
  {
   "cell_type": "code",
   "execution_count": null,
   "metadata": {},
   "outputs": [
    {
     "name": "stdout",
     "output_type": "stream",
     "text": [
      "      energy    tempo  danceability playlist_genre  loudness  liveness  \\\n",
      "0      0.592  157.969         0.521            pop    -7.777    0.1220   \n",
      "1      0.507  104.978         0.747            pop   -10.171    0.1170   \n",
      "2      0.808  108.548         0.554            pop    -4.169    0.1590   \n",
      "3      0.910  112.966         0.670            pop    -4.070    0.3040   \n",
      "4      0.783  149.027         0.777            pop    -4.477    0.3550   \n",
      "...      ...      ...           ...            ...       ...       ...   \n",
      "4821   0.663  154.865         0.593            pop    -6.045    0.2150   \n",
      "4822   0.533  148.813         0.484         indian   -11.177    0.0847   \n",
      "4823   0.857  126.412         0.686         indian    -3.946    0.2430   \n",
      "4824   0.656   92.121         0.430         indian    -8.580    0.0460   \n",
      "4825   0.342  122.145         0.486         indian   -21.400    0.3970   \n",
      "\n",
      "      valence                     track_artist  time_signature  speechiness  \\\n",
      "0       0.535            Lady Gaga, Bruno Mars             3.0       0.0304   \n",
      "1       0.438                    Billie Eilish             4.0       0.0358   \n",
      "2       0.372                    Gracie Abrams             4.0       0.0368   \n",
      "3       0.786                Sabrina Carpenter             4.0       0.0634   \n",
      "4       0.939                 ROSÉ, Bruno Mars             4.0       0.2600   \n",
      "...       ...                              ...             ...          ...   \n",
      "4821    0.418                            SKAAR             4.0       0.0375   \n",
      "4822    0.667  Tyagaraja, M. Balamuralikrishna             4.0       0.1330   \n",
      "4823    0.863  Tyagaraja, M. Balamuralikrishna             4.0       0.1030   \n",
      "4824    0.761  Tyagaraja, M. Balamuralikrishna             3.0       0.0682   \n",
      "4825    0.302                   T. N. Krishnan             3.0       0.1950   \n",
      "\n",
      "      ...  instrumentalness          track_album_id mode  key duration_ms  \\\n",
      "0     ...          0.000000  10FLjwfpbxLmW8c25Xyc2N  0.0  6.0    251668.0   \n",
      "1     ...          0.060800  7aJuG4TFXa2hmE4z1yxc3n  1.0  2.0    210373.0   \n",
      "2     ...          0.000000  0hBRqPYPXhr1RkTDG3n4Mk  1.0  1.0    166300.0   \n",
      "3     ...          0.000000  4B4Elma4nNDUyl6D5PvQkj  0.0  0.0    157280.0   \n",
      "4     ...          0.000000  2IYQwwgxgOIn7t3iF6ufFD  0.0  0.0    169917.0   \n",
      "...   ...               ...                     ...  ...  ...         ...   \n",
      "4821  ...          0.000076  0IQNIma6zpdlEuHDVQqKgk  0.0  5.0    157394.0   \n",
      "4822  ...          0.000000  6muBZfHP2wUlxGixmY3QAt  0.0  0.0    771333.0   \n",
      "4823  ...          0.000000  6muBZfHP2wUlxGixmY3QAt  1.0  4.0    747307.0   \n",
      "4824  ...          0.000002  4AEh1lIr0DRwjf2JyA21eV  1.0  7.0    344987.0   \n",
      "4825  ...          0.059700  3jhF6IDd4tmqrNf5KdJhbC  1.0  9.0    448267.0   \n",
      "\n",
      "     acousticness                      id playlist_subgenre            type  \\\n",
      "0          0.3080  2plbrEY59IikOBgBGLjaoe        mainstream  audio_features   \n",
      "1          0.2000  6dOtVTDdiauQNBQEDOtlAB        mainstream  audio_features   \n",
      "2          0.2140  7ne4VBA60CxGM75vw0EYad        mainstream  audio_features   \n",
      "3          0.0939  1d7Ptw3qYcfpdLNL5REhtJ        mainstream  audio_features   \n",
      "4          0.0283  5vNRhkKd0yEAg8suGBpjeY        mainstream  audio_features   \n",
      "...           ...                     ...               ...             ...   \n",
      "4821       0.0162  0S6jhJrcUdB82Z429hjLtZ            scandi  audio_features   \n",
      "4822       0.9030  62CAFDnVk8ljsQrgEemybD         classical  audio_features   \n",
      "4823       0.8880  7v3j5zBQ2VeLwr3u89mXVo         classical  audio_features   \n",
      "4824       0.6770  26M1pQcbDBpGxV6tqX2tDE         classical  audio_features   \n",
      "4825       0.6550  7b5t9VCBhloeoa20D1sB2S         classical  audio_features   \n",
      "\n",
      "                 playlist_id  \n",
      "0     37i9dQZF1DXcBWIGoYBM5M  \n",
      "1     37i9dQZF1DXcBWIGoYBM5M  \n",
      "2     37i9dQZF1DXcBWIGoYBM5M  \n",
      "3     37i9dQZF1DXcBWIGoYBM5M  \n",
      "4     37i9dQZF1DXcBWIGoYBM5M  \n",
      "...                      ...  \n",
      "4821  59z06GgF6TTDbm5cr1RZUC  \n",
      "4822  3sIB6VOssssCO17VUPu80m  \n",
      "4823  3sIB6VOssssCO17VUPu80m  \n",
      "4824  3sIB6VOssssCO17VUPu80m  \n",
      "4825  3sIB6VOssssCO17VUPu80m  \n",
      "\n",
      "[4826 rows x 29 columns]\n"
     ]
    }
   ],
   "source": [
    "import pandas as pd\n",
    "\n",
    "# read the data\n",
    "high = pd.read_csv('data/high_popularity_spotify_data.csv')\n",
    "low = pd.read_csv('data/low_popularity_spotify_data.csv')\n",
    "\n",
    "# concatenate for one big dataframe\n",
    "df = pd.concat([high, low], ignore_index=True)\n",
    "print(df.head(-5))\n"
   ]
  }
 ],
 "metadata": {
  "kernelspec": {
   "display_name": "Python 3",
   "language": "python",
   "name": "python3"
  },
  "language_info": {
   "codemirror_mode": {
    "name": "ipython",
    "version": 3
   },
   "file_extension": ".py",
   "mimetype": "text/x-python",
   "name": "python",
   "nbconvert_exporter": "python",
   "pygments_lexer": "ipython3",
   "version": "3.11.4"
  }
 },
 "nbformat": 4,
 "nbformat_minor": 0
}
