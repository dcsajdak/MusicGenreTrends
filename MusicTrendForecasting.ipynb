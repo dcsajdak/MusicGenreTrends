{
 "cells": [
  {
   "cell_type": "markdown",
   "metadata": {},
   "source": [
    "# Data Transformation and Preparation"
   ]
  },
  {
   "cell_type": "code",
   "execution_count": null,
   "metadata": {},
   "outputs": [
    {
     "name": "stdout",
     "output_type": "stream",
     "text": [
      "29503 327895\n",
      "327895\n"
     ]
    }
   ],
   "source": [
    "import pandas as pd\n",
    "\n",
    "# read the data\n",
    "spotify = pd.read_csv('data/Hot 100 Audio Features.csv')\n",
    "billboard = pd.read_csv('data/Hot Stuff.csv')\n",
    "\n",
    "# join on song title and performer\n",
    "spotify = spotify.drop_duplicates(subset=['Song', 'Performer']) # drop duplicates in spotify\n",
    "df = pd.merge(spotify, billboard, on=['Song', 'Performer'], how='right', validate='one_to_many')"
   ]
  }
 ],
 "metadata": {
  "kernelspec": {
   "display_name": "Python 3",
   "language": "python",
   "name": "python3"
  },
  "language_info": {
   "codemirror_mode": {
    "name": "ipython",
    "version": 3
   },
   "file_extension": ".py",
   "mimetype": "text/x-python",
   "name": "python",
   "nbconvert_exporter": "python",
   "pygments_lexer": "ipython3",
   "version": "3.11.4"
  }
 },
 "nbformat": 4,
 "nbformat_minor": 0
}
